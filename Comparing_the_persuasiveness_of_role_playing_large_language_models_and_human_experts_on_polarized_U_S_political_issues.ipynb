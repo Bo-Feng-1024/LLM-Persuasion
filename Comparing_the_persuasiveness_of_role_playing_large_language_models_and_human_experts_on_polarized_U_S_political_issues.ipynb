{
  "nbformat": 4,
  "nbformat_minor": 0,
  "metadata": {
    "colab": {
      "provenance": [],
      "authorship_tag": "ABX9TyNNoe7pLbVMT/wjMGOIO+gR",
      "include_colab_link": true
    },
    "kernelspec": {
      "name": "python3",
      "display_name": "Python 3"
    },
    "language_info": {
      "name": "python"
    }
  },
  "cells": [
    {
      "cell_type": "markdown",
      "metadata": {
        "id": "view-in-github",
        "colab_type": "text"
      },
      "source": [
        "<a href=\"https://colab.research.google.com/github/Bo-Feng-1024/LLM-Persuasion/blob/main/Comparing_the_persuasiveness_of_role_playing_large_language_models_and_human_experts_on_polarized_U_S_political_issues.ipynb\" target=\"_parent\"><img src=\"https://colab.research.google.com/assets/colab-badge.svg\" alt=\"Open In Colab\"/></a>"
      ]
    },
    {
      "cell_type": "markdown",
      "source": [
        "- Github Repo: https://github.com/lujainibrahim/llm-roleplaying-experts\n",
        "- Paper: https://osf.io/preprints/osf/ey8db"
      ],
      "metadata": {
        "id": "-v_xYGGlQYKI"
      }
    },
    {
      "cell_type": "markdown",
      "source": [
        "# Environment Settings"
      ],
      "metadata": {
        "id": "Pcj5RmmpQf4t"
      }
    },
    {
      "cell_type": "code",
      "execution_count": 2,
      "metadata": {
        "id": "PfwUEbQuQV5Q"
      },
      "outputs": [],
      "source": [
        "%%capture\n",
        "! git clone https://github.com/lujainibrahim/llm-roleplaying-experts.git\n",
        "! cd llm-roleplaying-experts && pip install -r requirements.txt"
      ]
    },
    {
      "cell_type": "markdown",
      "source": [
        "# Data Prep"
      ],
      "metadata": {
        "id": "oL8Oh8wwRpv8"
      }
    },
    {
      "cell_type": "code",
      "source": [],
      "metadata": {
        "id": "Aw2Aza7oQigh"
      },
      "execution_count": null,
      "outputs": []
    },
    {
      "cell_type": "code",
      "source": [],
      "metadata": {
        "id": "sjbrNIRYQii7"
      },
      "execution_count": null,
      "outputs": []
    },
    {
      "cell_type": "markdown",
      "source": [
        "Summarization on the paper:"
      ],
      "metadata": {
        "id": "Fs6obDdNRsSH"
      }
    },
    {
      "cell_type": "code",
      "source": [],
      "metadata": {
        "id": "4HRpihN2QilH"
      },
      "execution_count": null,
      "outputs": []
    },
    {
      "cell_type": "code",
      "source": [],
      "metadata": {
        "id": "Qdn-sz4fQins"
      },
      "execution_count": null,
      "outputs": []
    }
  ]
}