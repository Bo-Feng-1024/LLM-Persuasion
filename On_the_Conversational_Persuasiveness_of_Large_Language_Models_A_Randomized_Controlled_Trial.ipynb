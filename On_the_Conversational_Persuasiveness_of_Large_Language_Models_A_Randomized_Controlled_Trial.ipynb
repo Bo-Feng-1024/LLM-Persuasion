{
  "nbformat": 4,
  "nbformat_minor": 0,
  "metadata": {
    "colab": {
      "provenance": [],
      "authorship_tag": "ABX9TyMlWCiYFSeFVBqeKE/wsu3w",
      "include_colab_link": true
    },
    "kernelspec": {
      "name": "python3",
      "display_name": "Python 3"
    },
    "language_info": {
      "name": "python"
    }
  },
  "cells": [
    {
      "cell_type": "markdown",
      "metadata": {
        "id": "view-in-github",
        "colab_type": "text"
      },
      "source": [
        "<a href=\"https://colab.research.google.com/github/Bo-Feng-1024/LLM-Persuasion/blob/main/On_the_Conversational_Persuasiveness_of_Large_Language_Models_A_Randomized_Controlled_Trial.ipynb\" target=\"_parent\"><img src=\"https://colab.research.google.com/assets/colab-badge.svg\" alt=\"Open In Colab\"/></a>"
      ]
    },
    {
      "cell_type": "markdown",
      "source": [
        "- Paper: https://arxiv.org/abs/2403.14380\n",
        "- Dataset: https://huggingface.co/datasets/frasalvi/debategpt"
      ],
      "metadata": {
        "id": "jIo3c20DIMRc"
      }
    },
    {
      "cell_type": "code",
      "execution_count": null,
      "metadata": {
        "id": "5YRrWh2WILEb"
      },
      "outputs": [],
      "source": []
    }
  ]
}