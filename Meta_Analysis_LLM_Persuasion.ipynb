{
  "nbformat": 4,
  "nbformat_minor": 0,
  "metadata": {
    "colab": {
      "provenance": [],
      "authorship_tag": "ABX9TyM4Xr/eEwI6TKOlMTYhjtLf",
      "include_colab_link": true
    },
    "kernelspec": {
      "name": "python3",
      "display_name": "Python 3"
    },
    "language_info": {
      "name": "python"
    }
  },
  "cells": [
    {
      "cell_type": "markdown",
      "metadata": {
        "id": "view-in-github",
        "colab_type": "text"
      },
      "source": [
        "<a href=\"https://colab.research.google.com/github/Bo-Feng-1024/LLM-Persuasion/blob/main/Meta_Analysis_LLM_Persuasion.ipynb\" target=\"_parent\"><img src=\"https://colab.research.google.com/assets/colab-badge.svg\" alt=\"Open In Colab\"/></a>"
      ]
    },
    {
      "cell_type": "markdown",
      "source": [
        "How to do Meta Analysis:\n",
        "- [Introduction to Meta-Analysis: A Guide for the Novice](https://www.psychologicalscience.org/observer/introduction-to-meta-analysis-a-guide-for-the-novice)\n",
        "- [Ten simple rules for carrying out and writing meta-analyses](https://www.ncbi.nlm.nih.gov/pmc/articles/PMC6521986/)\n",
        "- [Guidelines for Reporting Systematic Reviews and Meta-analyses](https://www.um.es/metaanalysis/pdf/5058.pdf)\n",
        "- [Best Practice Guidelines and Essential Methodological Steps to Conduct Rigorous and Systematic Meta-Reviews](https://www.ncbi.nlm.nih.gov/pmc/articles/PMC6819213/)\n",
        "- [Meta-Analysis in Behavioral Science](https://onlinelibrary.wiley.com/doi/abs/10.1002/9781118445112.stat06654)\n",
        "- [The Role of Meta-Analysis in Scientific Studies](https://www.verywellmind.com/definition-of-meta-analysis-425254)\n",
        "- [How to conduct a meta-analysis in eight steps: a practical guide](https://link.springer.com/article/10.1007/s11301-021-00247-4)"
      ],
      "metadata": {
        "id": "T_y6rnVHW2xP"
      }
    },
    {
      "cell_type": "code",
      "execution_count": null,
      "metadata": {
        "id": "uE6GovvBWzXF"
      },
      "outputs": [],
      "source": []
    }
  ]
}