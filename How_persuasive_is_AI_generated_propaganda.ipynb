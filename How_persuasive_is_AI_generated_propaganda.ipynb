{
  "nbformat": 4,
  "nbformat_minor": 0,
  "metadata": {
    "colab": {
      "provenance": [],
      "authorship_tag": "ABX9TyN3FZ7O3OLxGBCGaa975uEX",
      "include_colab_link": true
    },
    "kernelspec": {
      "name": "python3",
      "display_name": "Python 3"
    },
    "language_info": {
      "name": "python"
    }
  },
  "cells": [
    {
      "cell_type": "markdown",
      "metadata": {
        "id": "view-in-github",
        "colab_type": "text"
      },
      "source": [
        "<a href=\"https://colab.research.google.com/github/Bo-Feng-1024/LLM-Persuasion/blob/main/How_persuasive_is_AI_generated_propaganda.ipynb\" target=\"_parent\"><img src=\"https://colab.research.google.com/assets/colab-badge.svg\" alt=\"Open In Colab\"/></a>"
      ]
    },
    {
      "cell_type": "markdown",
      "source": [
        "- paper: https://doi.org/10.1093/pnasnexus/pgae034\n",
        "- replication data and code: https://dataverse.harvard.edu/dataset.xhtml?persistentId=doi:10.7910/DVN/LAZ7AA"
      ],
      "metadata": {
        "id": "mze_JcBEVXO6"
      }
    },
    {
      "cell_type": "code",
      "execution_count": null,
      "metadata": {
        "id": "730gWpwyVVcA"
      },
      "outputs": [],
      "source": []
    }
  ]
}