{
  "nbformat": 4,
  "nbformat_minor": 0,
  "metadata": {
    "colab": {
      "provenance": [],
      "authorship_tag": "ABX9TyN80jol6uL+X6p/GFL1ebiM",
      "include_colab_link": true
    },
    "kernelspec": {
      "name": "python3",
      "display_name": "Python 3"
    },
    "language_info": {
      "name": "python"
    }
  },
  "cells": [
    {
      "cell_type": "markdown",
      "metadata": {
        "id": "view-in-github",
        "colab_type": "text"
      },
      "source": [
        "<a href=\"https://colab.research.google.com/github/Bo-Feng-1024/LLM-Persuasion/blob/main/Artificial_Intelligence_Can_Persuade_Humans_on_Political_Issues.ipynb\" target=\"_parent\"><img src=\"https://colab.research.google.com/assets/colab-badge.svg\" alt=\"Open In Colab\"/></a>"
      ]
    },
    {
      "cell_type": "markdown",
      "source": [
        "- paper: https://osf.io/preprints/osf/stakv\n",
        "- replication code and data: https://osf.io/8yxvr/"
      ],
      "metadata": {
        "id": "y0LuHeREUwgt"
      }
    },
    {
      "cell_type": "code",
      "execution_count": null,
      "metadata": {
        "id": "arSfV8OiUscz"
      },
      "outputs": [],
      "source": []
    }
  ]
}